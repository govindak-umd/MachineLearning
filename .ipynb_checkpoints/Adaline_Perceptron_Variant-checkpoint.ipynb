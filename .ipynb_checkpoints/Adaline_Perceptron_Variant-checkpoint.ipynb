{
 "cells": [
  {
   "cell_type": "code",
   "execution_count": 51,
   "metadata": {},
   "outputs": [],
   "source": [
    "#importing necessary libraries\n",
    "import numpy as np\n",
    "from matplotlib import pyplot as plt\n",
    "import random\n",
    "random.seed(101)"
   ]
  },
  {
   "cell_type": "code",
   "execution_count": 52,
   "metadata": {},
   "outputs": [],
   "source": [
    "# user chooses the length of the data \n",
    "length_dataset = 100\n",
    "length_test_dataset = 10000"
   ]
  },
  {
   "cell_type": "code",
   "execution_count": 53,
   "metadata": {},
   "outputs": [],
   "source": [
    "#creating the linearly separable dataset\n",
    "x1 = np.random.normal(4, 0.2, (int(length_dataset/2),2))\n",
    "x2 = np.random.normal(2, 0.2, (int(length_dataset/2),2))\n",
    "all_input = np.concatenate((x1, x2)) #creating a combined dataset of"
   ]
  },
  {
   "cell_type": "code",
   "execution_count": 54,
   "metadata": {},
   "outputs": [
    {
     "data": {
      "image/png": "[encoded data removed]",
      "text/plain": [
       "<Figure size 432x288 with 1 Axes>"
      ]
     },
     "metadata": {
      "needs_background": "light"
     },
     "output_type": "display_data"
    }
   ],
   "source": [
    "#Visualizing the linearly separable dataset\n",
    "plt.scatter(x1[:,0], x1[:,1], color='blue')\n",
    "plt.scatter(x2[:,0], x2[:,1], color='red')\n",
    "#separating the blue and the red points and categorizing the same\n",
    "d1 = -1 * (np.ones(int(length_dataset/2)))\n",
    "d2 = np.ones(int(length_dataset/2))\n",
    "all_combined_targets = np.concatenate((d1,d2))\n",
    "plt.show()"
   ]
  },
  {
   "cell_type": "code",
   "execution_count": 55,
   "metadata": {},
   "outputs": [
    {
     "data": {
      "text/plain": [
       "array([-1., -1., -1., -1., -1., -1., -1., -1., -1., -1., -1., -1., -1.,\n",
       "       -1., -1., -1., -1., -1., -1., -1., -1., -1., -1., -1., -1., -1.,\n",
       "       -1., -1., -1., -1., -1., -1., -1., -1., -1., -1., -1., -1., -1.,\n",
       "       -1., -1., -1., -1., -1., -1., -1., -1., -1., -1., -1.,  1.,  1.,\n",
       "        1.,  1.,  1.,  1.,  1.,  1.,  1.,  1.,  1.,  1.,  1.,  1.,  1.,\n",
       "        1.,  1.,  1.,  1.,  1.,  1.,  1.,  1.,  1.,  1.,  1.,  1.,  1.,\n",
       "        1.,  1.,  1.,  1.,  1.,  1.,  1.,  1.,  1.,  1.,  1.,  1.,  1.,\n",
       "        1.,  1.,  1.,  1.,  1.,  1.,  1.,  1.,  1.])"
      ]
     },
     "execution_count": 55,
     "metadata": {},
     "output_type": "execute_result"
    }
   ],
   "source": [
    "all_combined_targets"
   ]
  },
  {
   "cell_type": "code",
   "execution_count": 56,
   "metadata": {},
   "outputs": [],
   "source": [
    "def Y_predict(x_vector,w):\n",
    "    x_new = [1]\n",
    "    for i in x_vector:\n",
    "        x_new.append(i)\n",
    "    x_new = np.array((x_new))\n",
    "    res = (np.dot(x_new,w))\n",
    "    if res > 0:\n",
    "        Y = 1\n",
    "        return Y\n",
    "    elif res < 0:\n",
    "        Y = -1\n",
    "        return Y\n",
    "    elif res ==0:\n",
    "        Y = 0\n",
    "        return Y\n",
    "    \n",
    "\n",
    "def train(X,iterations,eta):\n",
    "    global count\n",
    "    global w\n",
    "    global all_combined_targets\n",
    "    for y_idx in range (len(X)):\n",
    "        ran_num = random.randint(0,len(X)-1)\n",
    "        x_train = X[ran_num]\n",
    "        y_t = Y_predict(x_train,w)\n",
    "        misrepresented_list = []\n",
    "        for i,j in enumerate(all_combined_targets):\n",
    "            if j!=y_t:\n",
    "                misrepresented_list.append(i)\n",
    "        if len(misrepresented_list)==0:\n",
    "            print('Full accuracy achieved')\n",
    "            break\n",
    "        random_selection = random.randint(0,len(misrepresented_list)-1)\n",
    "        random_index = misrepresented_list[random_selection]\n",
    "        x_selected = X[random_index]\n",
    "        y_selected = all_combined_targets[random_index]\n",
    "        x_with1 = [1]\n",
    "        for i in x_selected:\n",
    "            x_with1.append(i)\n",
    "        x_with1 = np.array((x_with1))\n",
    "        s_t = np.matmul(w,x_with1)\n",
    "        if (y_selected*s_t)<=1:\n",
    "            w = w+(eta*(y_selected-s_t)*x_with1)\n",
    "        if (count==iterations):\n",
    "            print('maximum iterations reached in the training block')\n",
    "            break\n",
    "            count+=1"
   ]
  },
  {
   "cell_type": "markdown",
   "metadata": {},
   "source": [
    "## eta = 100"
   ]
  },
  {
   "cell_type": "code",
   "execution_count": 57,
   "metadata": {},
   "outputs": [],
   "source": [
    "#initializing all parameters\n",
    "count = 0\n",
    "w0 = random.randint(1,4)\n",
    "w1 = random.randint(1,4)\n",
    "w2 = random.randint(1,4)\n",
    "w = np.array((w0,w1,w2))\n",
    "weight= 0\n",
    "iterations = 20\n",
    "eta = 0.001\n",
    "#calling the function\n",
    "train(all_input,iterations,eta)"
   ]
  },
  {
   "cell_type": "code",
   "execution_count": 58,
   "metadata": {},
   "outputs": [
    {
     "data": {
      "text/plain": [
       "[<matplotlib.lines.Line2D at 0x167588d78e0>,\n",
       " <matplotlib.lines.Line2D at 0x167588d7790>]"
      ]
     },
     "execution_count": 58,
     "metadata": {},
     "output_type": "execute_result"
    },
    {
     "data": {
      "image/png": "[encoded data removed]",
      "text/plain": [
       "<Figure size 432x288 with 1 Axes>"
      ]
     },
     "metadata": {
      "needs_background": "light"
     },
     "output_type": "display_data"
    }
   ],
   "source": [
    "#Visualizing the linearly separable dataset\n",
    "plt.scatter(x1[:,0], x1[:,1], color='blue')\n",
    "plt.scatter(x2[:,0], x2[:,1], color='red')\n",
    "m = -(w[1]/w[2])\n",
    "c = -(w[0]/w[2])\n",
    "plt.plot(m*all_input + c, all_input,'k--')\n",
    "# plt.plot(all_input, m*all_input + c,'k--')\n",
    "#test plotting \n",
    "#creating the linearly separable dataset\n",
    "# xtest = np.random.normal(4, 0.2, (int(length_test_dataset/2),2))\n",
    "# x2test = np.random.normal(2, 0.2, (int(length_test_dataset/2),2))\n",
    "# all_input_test = np.concatenate((xtest, x2test)) #creating a combined dataset of\n",
    "# plt.plot(all_input_test, m*all_input_test + c,'g--')\n",
    "# print('w:',w)"
   ]
  },
  {
   "cell_type": "markdown",
   "metadata": {},
   "source": [
    "## eta = 1"
   ]
  },
  {
   "cell_type": "code",
   "execution_count": 48,
   "metadata": {},
   "outputs": [],
   "source": [
    "#initializing all parameters\n",
    "count = 0\n",
    "w0 = random.randint(1,4)\n",
    "w1 = random.randint(1,4)\n",
    "w2 = random.randint(1,4)\n",
    "w = np.array((w0,w1,w2))\n",
    "weight= 0\n",
    "iterations = 20\n",
    "eta = 1\n",
    "#calling the function\n",
    "train(all_input,iterations,eta)"
   ]
  },
  {
   "cell_type": "code",
   "execution_count": 49,
   "metadata": {},
   "outputs": [
    {
     "name": "stdout",
     "output_type": "stream",
     "text": [
      "w: [1.79799036e+120 2.92269461e+120 2.88663081e+120]\n"
     ]
    },
    {
     "data": {
      "image/png": "[encoded data removed]",
      "text/plain": [
       "<Figure size 432x288 with 1 Axes>"
      ]
     },
     "metadata": {
      "needs_background": "light"
     },
     "output_type": "display_data"
    }
   ],
   "source": [
    "#Visualizing the linearly separable dataset\n",
    "plt.scatter(x1[:,0], x1[:,1], color='blue')\n",
    "plt.scatter(x2[:,0], x2[:,1], color='red')\n",
    "m = -(w[1]/w[2])\n",
    "c = -(w[0]/w[2])\n",
    "plt.plot(m*all_input + c, all_input,'k--')\n",
    "#test plotting \n",
    "#creating the linearly separable dataset\n",
    "xtest = np.random.normal(4, 0.2, (int(length_test_dataset/2),2))\n",
    "x2test = np.random.normal(2, 0.2, (int(length_test_dataset/2),2))\n",
    "all_input_test = np.concatenate((xtest, x2test)) #creating a combined dataset of\n",
    "plt.plot(all_input_test, m*all_input_test + c,'g--')\n",
    "print('w:',w)"
   ]
  },
  {
   "cell_type": "markdown",
   "metadata": {},
   "source": [
    "## eta = 0.01"
   ]
  },
  {
   "cell_type": "code",
   "execution_count": 10,
   "metadata": {},
   "outputs": [],
   "source": [
    "#initializing all parameters\n",
    "count = 0\n",
    "w0 = random.randint(1,4)\n",
    "w1 = random.randint(1,4)\n",
    "w2 = random.randint(1,4)\n",
    "w = np.array((w0,w1,w2))\n",
    "weight= 0\n",
    "iterations = 20\n",
    "eta = 0.01\n",
    "#calling the function\n",
    "train(all_input,iterations,eta)"
   ]
  },
  {
   "cell_type": "code",
   "execution_count": 11,
   "metadata": {},
   "outputs": [
    {
     "name": "stdout",
     "output_type": "stream",
     "text": [
      "w: [ 0.51616892 -1.01058716  0.81523726]\n"
     ]
    },
    {
     "data": {
      "image/png": "[encoded data removed]",
      "text/plain": [
       "<Figure size 432x288 with 1 Axes>"
      ]
     },
     "metadata": {
      "needs_background": "light"
     },
     "output_type": "display_data"
    }
   ],
   "source": [
    "#Visualizing the linearly separable dataset\n",
    "plt.scatter(x1[:,0], x1[:,1], color='blue')\n",
    "plt.scatter(x2[:,0], x2[:,1], color='red')\n",
    "m = -(w[1]/w[2])\n",
    "c = -(w[0]/w[2])\n",
    "plt.plot(all_input, m*all_input + c,'k--')\n",
    "#test plotting \n",
    "#creating the linearly separable dataset\n",
    "xtest = np.random.normal(4, 0.2, (int(length_test_dataset/2),2))\n",
    "x2test = np.random.normal(2, 0.2, (int(length_test_dataset/2),2))\n",
    "all_input_test = np.concatenate((xtest, x2test)) #creating a combined dataset of\n",
    "plt.plot(all_input_test, m*all_input_test + c,'g--')\n",
    "print('w:',w)"
   ]
  },
  {
   "cell_type": "markdown",
   "metadata": {},
   "source": [
    "## eta = 0.0001"
   ]
  },
  {
   "cell_type": "code",
   "execution_count": 12,
   "metadata": {},
   "outputs": [],
   "source": [
    "#initializing all parameters\n",
    "count = 0\n",
    "w0 = random.randint(1,4)\n",
    "w1 = random.randint(1,4)\n",
    "w2 = random.randint(1,4)\n",
    "w = np.array((w0,w1,w2))\n",
    "weight= 0\n",
    "iterations = 20\n",
    "eta = 0.0001\n",
    "#calling the function\n",
    "train(all_input,iterations,eta)"
   ]
  },
  {
   "cell_type": "code",
   "execution_count": 13,
   "metadata": {},
   "outputs": [
    {
     "name": "stdout",
     "output_type": "stream",
     "text": [
      "w: [1.80332769 1.20856561 2.21148356]\n"
     ]
    },
    {
     "data": {
      "image/png": "[encoded data removed]",
      "text/plain": [
       "<Figure size 432x288 with 1 Axes>"
      ]
     },
     "metadata": {
      "needs_background": "light"
     },
     "output_type": "display_data"
    }
   ],
   "source": [
    "#Visualizing the linearly separable dataset\n",
    "plt.scatter(x1[:,0], x1[:,1], color='blue')\n",
    "plt.scatter(x2[:,0], x2[:,1], color='red')\n",
    "m = -(w[1]/w[2])\n",
    "c = -(w[0]/w[2])\n",
    "plt.plot(all_input, m*all_input + c,'k--')\n",
    "#test plotting \n",
    "#creating the linearly separable dataset\n",
    "xtest = np.random.normal(4, 0.2, (int(length_test_dataset/2),2))\n",
    "x2test = np.random.normal(2, 0.2, (int(length_test_dataset/2),2))\n",
    "all_input_test = np.concatenate((xtest, x2test)) #creating a combined dataset of\n",
    "plt.plot(all_input_test, m*all_input_test + c,'g--')\n",
    "print('w:',w)"
   ]
  },
  {
   "cell_type": "markdown",
   "metadata": {},
   "source": [
    "# Comparison of Results"
   ]
  },
  {
   "cell_type": "code",
   "execution_count": 15,
   "metadata": {},
   "outputs": [],
   "source": [
    "# We can see that in case a) the results are not too bad but the line cuts \n",
    "# through the linearly separable points"
   ]
  },
  {
   "cell_type": "code",
   "execution_count": 16,
   "metadata": {},
   "outputs": [],
   "source": [
    "# In case b) The line is very off"
   ]
  },
  {
   "cell_type": "code",
   "execution_count": 17,
   "metadata": {},
   "outputs": [],
   "source": [
    "# In case c) It almost verifies the linear separability"
   ]
  },
  {
   "cell_type": "code",
   "execution_count": 18,
   "metadata": {},
   "outputs": [],
   "source": [
    "# In case d) The line goes off the path again"
   ]
  },
  {
   "cell_type": "code",
   "execution_count": 19,
   "metadata": {},
   "outputs": [],
   "source": [
    "# Conclusion the eta value that resulted in the minimu classification error wass when eta = 0.01"
   ]
  },
  {
   "cell_type": "code",
   "execution_count": null,
   "metadata": {},
   "outputs": [],
   "source": []
  }
 ],
 "metadata": {
  "kernelspec": {
   "display_name": "Python 3",
   "language": "python",
   "name": "python3"
  },
  "language_info": {
   "codemirror_mode": {
    "name": "ipython",
    "version": 3
   },
   "file_extension": ".py",
   "mimetype": "text/x-python",
   "name": "python",
   "nbconvert_exporter": "python",
   "pygments_lexer": "ipython3",
   "version": "3.8.3"
  }
 },
 "nbformat": 4,
 "nbformat_minor": 4
}
