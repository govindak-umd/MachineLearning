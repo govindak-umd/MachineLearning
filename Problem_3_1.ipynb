{
 "cells": [
  {
   "cell_type": "code",
   "execution_count": 1,
   "metadata": {},
   "outputs": [],
   "source": [
    "from matplotlib import pyplot as plt\n",
    "import numpy as np"
   ]
  },
  {
   "cell_type": "code",
   "execution_count": 45,
   "metadata": {},
   "outputs": [
    {
     "data": {
      "text/plain": "<Figure size 432x288 with 1 Axes>",
      "image/png": "[encoded data removed]"
     },
     "metadata": {
      "needs_background": "light"
     },
     "output_type": "display_data"
    }
   ],
   "source": [
    "thk = 5\n",
    "sep = 5\n",
    "rad = 10\n",
    "\n",
    "xs_red = []\n",
    "ys_red = []\n",
    "fig = plt.figure()\n",
    "ax = fig.add_subplot(111)\n",
    "\n",
    "for x_coord in np.arange(-(rad+thk),rad+thk,0.1):\n",
    "    for y_coord in np.arange(0 ,rad+thk,0.1):\n",
    "        if rad**2 <= (x_coord - 0)**2 + (y_coord - 0)**2 <= (rad+thk)**2:\n",
    "            xs_red.append(x_coord)\n",
    "            ys_red.append(y_coord)\n",
    "\n",
    "\n",
    "xs_blue = []\n",
    "ys_blue = []\n",
    "\n",
    "for x_coord in np.arange(-(thk/2),(thk/2 + (2*rad) + thk),0.1):\n",
    "    for y_coord in np.arange(-sep ,-(rad++sep+thk),-0.1):\n",
    "        if rad**2 <= (x_coord - ((thk/2) + rad))**2 + (y_coord - (-sep))**2 <= (rad+thk)**2:\n",
    "            xs_blue.append(x_coord)\n",
    "            ys_blue.append(y_coord)\n",
    "\n",
    "ax.set_aspect('equal')\n",
    "plt.scatter(xs_red, ys_red,color = 'red')\n",
    "plt.scatter(xs_blue, ys_blue,color = 'blue')\n",
    "plt.show()"
   ]
  },
  {
   "cell_type": "code",
   "execution_count": 22,
   "metadata": {},
   "outputs": [],
   "source": []
  },
  {
   "cell_type": "code",
   "execution_count": null,
   "metadata": {},
   "outputs": [],
   "source": []
  }
 ],
 "metadata": {
  "kernelspec": {
   "display_name": "Python 3",
   "language": "python",
   "name": "python3"
  },
  "language_info": {
   "codemirror_mode": {
    "name": "ipython",
    "version": 3
   },
   "file_extension": ".py",
   "mimetype": "text/x-python",
   "name": "python",
   "nbconvert_exporter": "python",
   "pygments_lexer": "ipython3",
   "version": "3.8.3"
  }
 },
 "nbformat": 4,
 "nbformat_minor": 4
}