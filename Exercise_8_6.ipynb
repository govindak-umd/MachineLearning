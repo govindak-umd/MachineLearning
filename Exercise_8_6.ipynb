{
 "cells": [
  {
   "cell_type": "markdown",
   "metadata": {},
   "source": [
    "# Exercise 8.6 "
   ]
  },
  {
   "cell_type": "markdown",
   "metadata": {},
   "source": [
    "# Importing all the necessary libraries"
   ]
  },
  {
   "cell_type": "code",
   "execution_count": 1,
   "metadata": {},
   "outputs": [],
   "source": [
    "import matplotlib.pyplot as plt\n",
    "from multiprocessing import Process\n",
    "import seaborn as sns\n",
    "import numpy as np\n",
    "from cvxopt import matrix, solvers\n",
    "import random\n",
    "import warnings\n",
    "warnings.filterwarnings(\"ignore\")"
   ]
  },
  {
   "cell_type": "markdown",
   "metadata": {},
   "source": [
    "# Generate the training samples"
   ]
  },
  {
   "cell_type": "code",
   "execution_count": 2,
   "metadata": {},
   "outputs": [],
   "source": [
    "def generateRandomPoints(N=20):\n",
    "    x = np.zeros((N, 2), dtype=np.float)\n",
    "    x[:, 0] = np.random.rand(N)\n",
    "    x[:, 1] = 2*np.random.rand(N)- 1 \n",
    "    y = np.sign(x[:, 1])\n",
    "    return x, y"
   ]
  },
  {
   "cell_type": "markdown",
   "metadata": {},
   "source": [
    "# Calculate the error"
   ]
  },
  {
   "cell_type": "code",
   "execution_count": 3,
   "metadata": {},
   "outputs": [],
   "source": [
    "def calculateErrorout(w_hat, n_samples=5000):\n",
    "    x, y = generateRandomPoints(n_samples)\n",
    "    N = x.shape[0]\n",
    "    concatenated_x = np.concatenate((np.ones((N, 1)), x), axis=1)\n",
    "    prediction = np.matmul(concatenated_x, w_hat).reshape(-1)\n",
    "    prediction = np.sign(prediction) - (prediction == 0)\n",
    "    error_out = 1 - (np.count_nonzero(prediction == y) / N)\n",
    "    return error_out"
   ]
  },
  {
   "cell_type": "markdown",
   "metadata": {},
   "source": [
    "# Declaring SVM"
   ]
  },
  {
   "cell_type": "code",
   "execution_count": 4,
   "metadata": {},
   "outputs": [],
   "source": [
    "class SVM():\n",
    "    def __init__(self):\n",
    "        self.sp_v_threshold = 0.0000001\n",
    "    def fit_data(self, x, y):\n",
    "        support_vector_indices = []\n",
    "        N = len(x)\n",
    "        DIMENSION = len(x[0])\n",
    "        P = matrix(np.identity(DIMENSION + 1))\n",
    "        P[0, 0] = 0\n",
    "        G = matrix(np.zeros((N, DIMENSION + 1)))\n",
    "        for i in range(N):\n",
    "            G[i, 0] = -y[i]\n",
    "            G[i, 1:] = -x[i, :] * y[i]\n",
    "        q = matrix(np.zeros((DIMENSION + 1,)))\n",
    "        h = -matrix(np.ones((N,)))\n",
    "        solv = solvers.qp(P, q, G, h)\n",
    "        weights= np.zeros(DIMENSION,)\n",
    "        b = solv[\"x\"][0]\n",
    "        for i in range(1, DIMENSION + 1):\n",
    "            weights[i - 1] = solv[\"x\"][i]\n",
    "        for k in range(N):\n",
    "            val = y[k] * (np.dot(weights, x[k]) + b)\n",
    "            if val < (1 + self.sp_v_threshold):\n",
    "                support_vector_indices.append(k)\n",
    "        self.intercept = np.array([b])\n",
    "        self.coefficient = weights.reshape(-1, 1)\n",
    "def returnConcatenatedSVM(X, y):\n",
    "    svm = SVM()\n",
    "    svm.fit_data(X, y)\n",
    "    concatenated_svm = np.concatenate((svm.intercept.reshape(1,1), svm.coefficient.reshape(-1, 1)),0)\n",
    "    return concatenated_svm"
   ]
  },
  {
   "cell_type": "markdown",
   "metadata": {},
   "source": [
    "# Declaring PLA"
   ]
  },
  {
   "cell_type": "code",
   "execution_count": 5,
   "metadata": {},
   "outputs": [],
   "source": [
    "def PLA(x, y):\n",
    "    N = x.shape[0]\n",
    "    concatenated_x = np.concatenate((np.ones((N, 1)), x), axis=1)\n",
    "    w = np.zeros((concatenated_x.shape[1], 1))\n",
    "    maximumupdates=1500\n",
    "    for updates in range(maximumupdates):\n",
    "        prediction = np.matmul(concatenated_x, w)\n",
    "        prediction = np.sign(prediction) - (prediction == 0)\n",
    "        prediction = prediction.reshape(-1)\n",
    "        for i, j in enumerate(prediction != y):\n",
    "            if j == 1:\n",
    "                break\n",
    "            if i == x.shape[0] - 1:\n",
    "                return w\n",
    "        w += y[i] * concatenated_x[i, :].reshape(-1, 1)\n",
    "    return w"
   ]
  },
  {
   "cell_type": "markdown",
   "metadata": {},
   "source": [
    "# Comparing the results"
   ]
  },
  {
   "cell_type": "code",
   "execution_count": 6,
   "metadata": {},
   "outputs": [],
   "source": [
    "def compareSVMandPLA():\n",
    "    x, y = generateRandomPoints()\n",
    "    SVM_error_out_of_sample = calculateErrorout(returnConcatenatedSVM(x, y))\n",
    "    PLA_error_out_of_sample = []\n",
    "    iterations = 5000\n",
    "    for iters in range(iterations):\n",
    "        i = np.random.permutation(x.shape[0])\n",
    "        x = x[i]\n",
    "        y = y[i]\n",
    "        PLA_error_out_of_sample.append(calculateErrorout(PLA(x, y)))\n",
    "    PLA_error_out_of_sample = np.array(PLA_error_out_of_sample)\n",
    "    return SVM_error_out_of_sample, PLA_error_out_of_sample"
   ]
  },
  {
   "cell_type": "markdown",
   "metadata": {},
   "source": [
    "# Generating samples and running everything"
   ]
  },
  {
   "cell_type": "code",
   "execution_count": 7,
   "metadata": {},
   "outputs": [
    {
     "name": "stdout",
     "output_type": "stream",
     "text": [
      "     pcost       dcost       gap    pres   dres\n",
      " 0:  7.9613e-01  1.0459e+01  5e+01  2e+00  2e+01\n",
      " 1:  5.0087e+00 -2.1621e-01  2e+01  7e-01  6e+00\n",
      " 2:  8.0068e+00  5.4934e+00  8e+00  2e-01  2e+00\n",
      " 3:  1.1625e+01  9.3348e+00  3e+00  5e-02  4e-01\n",
      " 4:  1.2221e+01  1.2126e+01  1e-01  7e-04  6e-03\n",
      " 5:  1.2193e+01  1.2192e+01  1e-03  7e-06  6e-05\n",
      " 6:  1.2192e+01  1.2192e+01  1e-05  7e-08  6e-07\n",
      " 7:  1.2192e+01  1.2192e+01  1e-07  7e-10  6e-09\n",
      "Optimal solution found.\n"
     ]
    }
   ],
   "source": [
    "x, y = generateRandomPoints()\n",
    "w_hat_svm = returnConcatenatedSVM(x, y)\n",
    "w_hat_pla = PLA(x, y)"
   ]
  },
  {
   "cell_type": "markdown",
   "metadata": {},
   "source": [
    "# Calling the comparison function"
   ]
  },
  {
   "cell_type": "code",
   "execution_count": 8,
   "metadata": {},
   "outputs": [
    {
     "name": "stdout",
     "output_type": "stream",
     "text": [
      "     pcost       dcost       gap    pres   dres\n",
      " 0:  1.0999e+00  1.5064e+01  5e+01  2e+00  1e+01\n",
      " 1:  5.6889e+00  1.2563e+01  2e+01  8e-01  4e+00\n",
      " 2:  1.7337e+01  5.1226e+01  2e+01  6e-01  3e+00\n",
      " 3:  4.9645e+01  6.1561e+01  1e+01  2e-01  1e+00\n",
      " 4:  6.5607e+01  6.5910e+01  5e-01  6e-03  3e-02\n",
      " 5:  6.6064e+01  6.6067e+01  5e-03  6e-05  3e-04\n",
      " 6:  6.6068e+01  6.6069e+01  5e-05  6e-07  3e-06\n",
      " 7:  6.6069e+01  6.6069e+01  5e-07  6e-09  3e-08\n",
      "Optimal solution found.\n"
     ]
    }
   ],
   "source": [
    "E_out_SVM, E_outs_PLA = compareSVMandPLA()"
   ]
  },
  {
   "cell_type": "markdown",
   "metadata": {},
   "source": [
    "# Plotting all the data"
   ]
  },
  {
   "cell_type": "code",
   "execution_count": 9,
   "metadata": {},
   "outputs": [
    {
     "data": {
      "text/plain": [
       "Text(0.049319333333333375, 126.94500000000001, '$E_{out}SVM$')"
      ]
     },
     "execution_count": 9,
     "metadata": {},
     "output_type": "execute_result"
    },
    {
     "data": {
      "image/png": "[encoded data removed]",
      "text/plain": [
       "<Figure size 432x288 with 1 Axes>"
      ]
     },
     "metadata": {
      "needs_background": "light"
     },
     "output_type": "display_data"
    }
   ],
   "source": [
    "axes = sns.distplot(E_outs_PLA, kde=False, color= 'g')\n",
    "plt.axvline(E_out_SVM, color=\"red\", lw=1.2)\n",
    "plt.title('Histogram of E_out')\n",
    "plt.xlabel('E_out')\n",
    "plt.text(E_out_SVM + (axes.axis()[1] - axes.axis()[0]) / 30, 0.1 * axes.axis()[3], r'$E_{out}SVM$',fontsize=20, color = 'r')"
   ]
  },
  {
   "cell_type": "code",
   "execution_count": null,
   "metadata": {},
   "outputs": [],
   "source": []
  }
 ],
 "metadata": {
  "kernelspec": {
   "display_name": "Python 3",
   "language": "python",
   "name": "python3"
  },
  "language_info": {
   "codemirror_mode": {
    "name": "ipython",
    "version": 3
   },
   "file_extension": ".py",
   "mimetype": "text/x-python",
   "name": "python",
   "nbconvert_exporter": "python",
   "pygments_lexer": "ipython3",
   "version": "3.8.5"
  }
 },
 "nbformat": 4,
 "nbformat_minor": 4
}
