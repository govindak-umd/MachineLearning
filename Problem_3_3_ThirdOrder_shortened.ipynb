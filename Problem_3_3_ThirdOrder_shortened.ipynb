{
 "cells": [
  {
   "cell_type": "markdown",
   "metadata": {},
   "source": [
    "# Problem 3.3 Learning From Data"
   ]
  },
  {
   "cell_type": "markdown",
   "metadata": {},
   "source": [
    "# Answer d : For the 3rd order polynomial feature transform"
   ]
  },
  {
   "cell_type": "code",
   "execution_count": 1,
   "metadata": {},
   "outputs": [],
   "source": [
    "from matplotlib import pyplot as plt\n",
    "import numpy as np\n",
    "import random\n",
    "from sklearn import linear_model\n",
    "from random import seed\n",
    "np.random.seed(1)\n",
    "from sklearn.preprocessing import PolynomialFeatures"
   ]
  },
  {
   "cell_type": "markdown",
   "metadata": {},
   "source": [
    "# Visualizing the dataset"
   ]
  },
  {
   "cell_type": "code",
   "execution_count": 2,
   "metadata": {},
   "outputs": [
    {
     "data": {
      "image/png": "[encoded data removed]",
      "text/plain": [
       "<Figure size 432x288 with 1 Axes>"
      ]
     },
     "metadata": {
      "needs_background": "light"
     },
     "output_type": "display_data"
    }
   ],
   "source": [
    "thk = 5\n",
    "sep = -5\n",
    "rad = 10\n",
    "\n",
    "xs_red = []\n",
    "ys_red = []\n",
    "\n",
    "fig = plt.figure()\n",
    "ax = fig.add_subplot(111)\n",
    "ax.set_aspect('equal')\n",
    "\n",
    "step= 1\n",
    "for x_coord in np.arange(-(rad+thk),rad+thk,step):\n",
    "    for y_coord in np.arange(0 ,rad+thk,step):\n",
    "        if rad**2 <= (x_coord - 0)**2 + (y_coord - 0)**2 <= (rad+thk)**2:\n",
    "            xs_red.append(x_coord)\n",
    "            ys_red.append(y_coord)\n",
    "\n",
    "xs_blue = []\n",
    "ys_blue = []\n",
    "\n",
    "for x_coord in np.arange(-(thk/2),(thk/2 + (2*rad) + thk),step):\n",
    "    for y_coord in np.arange(-sep ,-(rad++sep+thk),-step):\n",
    "        if rad**2 <= (x_coord - ((thk/2) + rad))**2 + (y_coord - (-sep))**2 <= (rad+thk)**2:\n",
    "            xs_blue.append(x_coord)\n",
    "            ys_blue.append(y_coord)\n",
    "\n",
    "\n",
    "plt.scatter(xs_red, ys_red,color = 'red')\n",
    "plt.scatter(xs_blue, ys_blue,color = 'blue')\n",
    "plt.show()"
   ]
  },
  {
   "cell_type": "markdown",
   "metadata": {},
   "source": [
    "# Repeating Pocket Algorithm"
   ]
  },
  {
   "cell_type": "code",
   "execution_count": 3,
   "metadata": {},
   "outputs": [],
   "source": [
    "# dataset preparation\n",
    "x_combined = xs_red +xs_blue\n",
    "y_combined = ys_red + ys_blue\n",
    "y_train_1  = np.ones((len(xs_red), ), dtype=np.float)\n",
    "y_train_2 = -1 * np.ones((len(xs_blue), ), dtype=np.float)\n",
    "y_train = np.concatenate((y_train_1,y_train_2))\n",
    "x_train = list(zip(x_combined, y_combined))\n",
    "x_for_third_degree = x_train\n",
    "x_train = np.array(x_train)\n",
    "n_train = len(x_train)\n",
    "learningRate = 0.01\n",
    "Y = y_train\n",
    "oneVector = np.ones((x_train.shape[0], 1))\n",
    "x_train = np.concatenate((oneVector, x_train), axis=1)\n",
    "X_train = x_train"
   ]
  },
  {
   "cell_type": "code",
   "execution_count": 4,
   "metadata": {},
   "outputs": [],
   "source": [
    "def evaluate_error(w, X, y):\n",
    "    n = X.shape[0]\n",
    "    pred = np.matmul(X, w)\n",
    "    pred = np.sign(pred) - (pred == 0)\n",
    "    pred = pred.reshape(-1)\n",
    "    return np.count_nonzero(pred == y) / n"
   ]
  },
  {
   "cell_type": "markdown",
   "metadata": {},
   "source": [
    "# Setting up the third order feature transform"
   ]
  },
  {
   "cell_type": "code",
   "execution_count": 5,
   "metadata": {},
   "outputs": [],
   "source": [
    "trans = PolynomialFeatures(degree=3)\n",
    "x_for_third_degree = trans.fit_transform(x_for_third_degree)\n",
    "x_for_third_degree = np.array(x_for_third_degree)\n",
    "\n"
   ]
  },
  {
   "cell_type": "code",
   "execution_count": 6,
   "metadata": {},
   "outputs": [],
   "source": [
    "x_train = np.concatenate((oneVector, x_for_third_degree), axis=1)\n",
    "X_train = x_for_third_degree\n",
    "plotData = []\n",
    "weights = np.random.rand(10, 1)\n",
    "w_hat = weights\n",
    "misClassifications = 1\n",
    "minMisclassifications = 10000\n",
    "iteration = 0\n",
    "err_train_now = []\n",
    "err_train_hat = []\n",
    "train_err_now = 1\n",
    "train_err_min = 1"
   ]
  },
  {
   "cell_type": "code",
   "execution_count": 7,
   "metadata": {},
   "outputs": [
    {
     "name": "stdout",
     "output_type": "stream",
     "text": [
      "100\n",
      "200\n",
      "300\n",
      "400\n",
      "500\n",
      "600\n",
      "700\n",
      "800\n",
      "900\n",
      "1000\n",
      "[[-202.952978    -87.92467551 -101.10988563 1032.56483257  577.55175589\n",
      "  -772.01766141  -75.93748979   20.12306073  -54.97823253  115.06881673]]\n",
      "Best Case Accuracy of Pocket Learning Algorithm is:  95.87378640776699 %\n"
     ]
    }
   ],
   "source": [
    "while (misClassifications != 0 and (iteration<1000)):\n",
    "    iteration += 1\n",
    "    #for keeping track of the progress for 100000 iterations\n",
    "    if (iteration%100) == 0:\n",
    "        print(iteration)\n",
    "    misClassifications = 0\n",
    "    for i in range(0, len(X_train)):\n",
    "        currentX = X_train[i].reshape(-1, X_train.shape[1])\n",
    "        currentY = Y[i]\n",
    "        wTx = np.dot(currentX, weights)[0][0]\n",
    "        if currentY == 1 and wTx < 0:\n",
    "            misClassifications += 1\n",
    "            weights = weights + learningRate * np.transpose(currentX)\n",
    "        elif currentY == -1 and wTx > 0:\n",
    "            misClassifications += 1\n",
    "            weights = weights - learningRate * np.transpose(currentX)\n",
    "            \n",
    "        train_err_now = evaluate_error(weights, X_train, y_train)\n",
    "        err_train_now.append(train_err_now)\n",
    "        \n",
    "        if train_err_now < train_err_min :\n",
    "            train_err_min = train_err_now\n",
    "            err_train_hat.append(train_err_min)\n",
    "            w_hat = weights\n",
    "    \n",
    "    plotData.append(misClassifications)\n",
    "    if misClassifications<minMisclassifications:\n",
    "        minMisclassifications = misClassifications\n",
    "print(weights.transpose()) \n",
    "print (\"Best Case Accuracy of Pocket Learning Algorithm is: \",(((X_train.shape[0]-minMisclassifications)/X_train.shape[0])*100),\"%\")"
   ]
  },
  {
   "cell_type": "code",
   "execution_count": 8,
   "metadata": {},
   "outputs": [
    {
     "data": {
      "image/png": "[encoded data removed]",
      "text/plain": [
       "<Figure size 432x288 with 1 Axes>"
      ]
     },
     "metadata": {
      "needs_background": "light"
     },
     "output_type": "display_data"
    }
   ],
   "source": [
    "plt.title('Number of misclassifications over the number of iterations')\n",
    "plt.plot(np.arange(0,iteration),plotData)\n",
    "plt.xlabel(\"Number of Iterations\")\n",
    "plt.ylabel(\"Number of Misclassifications\")\n",
    "plt.show()"
   ]
  },
  {
   "cell_type": "code",
   "execution_count": 9,
   "metadata": {},
   "outputs": [
    {
     "data": {
      "text/plain": [
       "(-30.0, 20.0)"
      ]
     },
     "execution_count": 9,
     "metadata": {},
     "output_type": "execute_result"
    },
    {
     "data": {
      "image/png": "[encoded data removed]",
      "text/plain": [
       "<Figure size 432x288 with 1 Axes>"
      ]
     },
     "metadata": {
      "needs_background": "light"
     },
     "output_type": "display_data"
    }
   ],
   "source": [
    "#Visualizing the linearly separable dataset\n",
    "fig = plt.figure()\n",
    "ax = fig.add_subplot(111)\n",
    "ax.set_aspect('equal')\n",
    "\n",
    "plt.scatter(xs_red, ys_red, color='red')\n",
    "plt.scatter(xs_blue,ys_blue, color='blue')\n",
    "num_points = 200\n",
    "x_poly_points = np.linspace(-20,30,num_points-1)\n",
    "y_poly_points = np.linspace(-20,30,num_points-1)\n",
    "f = []\n",
    "for i in range(num_points-1):\n",
    "    f.append((1*weights[0][0])+(weights[1][0]*x_poly_points[i]) + (weights[2][0]*y_poly_points[i]) + (weights[3][0]*(x_poly_points[i]**2)) + \n",
    "             (weights[4][0]*x_poly_points[i]*y_poly_points[i]) + (weights[5][0]*(y_poly_points[i]**2)) + (weights[6][0]*(x_poly_points[i]**3))\n",
    "             +(weights[7][0]*(x_poly_points[i]**2)*y_poly_points[i]) + (weights[8][0]*x_poly_points[i]*(y_poly_points[i]**2))\n",
    "             +(weights[9][0]*(y_poly_points[i]**3)))\n",
    "plt.plot(x_poly_points,f)\n",
    "plt.xlim([-20, 30])\n",
    "plt.ylim([-30, 20])"
   ]
  },
  {
   "cell_type": "markdown",
   "metadata": {},
   "source": [
    "# Answer (d) Linear regression"
   ]
  },
  {
   "cell_type": "code",
   "execution_count": 10,
   "metadata": {},
   "outputs": [
    {
     "name": "stdout",
     "output_type": "stream",
     "text": [
      "[ 0.00000000e+00  4.82356126e-15  2.22496176e-02  1.28387236e-01\n",
      "  8.82323799e-03  1.20556208e-02  1.40151082e-02 -4.01240073e-04\n",
      " -5.54221131e-04 -1.06802406e-03 -9.92702578e-04]\n"
     ]
    }
   ],
   "source": [
    "reg = linear_model.LinearRegression()\n",
    "reg.fit(x_train,y_train)\n",
    "weights_linear_regression = reg.coef_\n",
    "l = []\n",
    "for i in weights_linear_regression:\n",
    "    l.append(i)\n",
    "print(weights_linear_regression)"
   ]
  },
  {
   "cell_type": "code",
   "execution_count": 11,
   "metadata": {},
   "outputs": [
    {
     "data": {
      "text/plain": [
       "(-30.0, 20.0)"
      ]
     },
     "execution_count": 11,
     "metadata": {},
     "output_type": "execute_result"
    },
    {
     "data": {
      "image/png": "[encoded data removed]",
      "text/plain": [
       "<Figure size 432x288 with 1 Axes>"
      ]
     },
     "metadata": {
      "needs_background": "light"
     },
     "output_type": "display_data"
    }
   ],
   "source": [
    "#Visualizing the linearly separable dataset\n",
    "fig = plt.figure()\n",
    "ax = fig.add_subplot(111)\n",
    "ax.set_aspect('equal')\n",
    "\n",
    "plt.scatter(xs_red, ys_red, color='red')\n",
    "plt.scatter(xs_blue,ys_blue, color='blue')\n",
    "m = weights_linear_regression[1]\n",
    "c = weights_linear_regression[0]\n",
    "plt.plot( x_train, m*x_train + c ,'g--')\n",
    "plt.xlim([-20, 30])\n",
    "plt.ylim([-30, 20])"
   ]
  },
  {
   "cell_type": "code",
   "execution_count": null,
   "metadata": {},
   "outputs": [],
   "source": []
  }
 ],
 "metadata": {
  "kernelspec": {
   "display_name": "Python 3",
   "language": "python",
   "name": "python3"
  },
  "language_info": {
   "codemirror_mode": {
    "name": "ipython",
    "version": 3
   },
   "file_extension": ".py",
   "mimetype": "text/x-python",
   "name": "python",
   "nbconvert_exporter": "python",
   "pygments_lexer": "ipython3",
   "version": "3.8.3"
  }
 },
 "nbformat": 4,
 "nbformat_minor": 4
}
