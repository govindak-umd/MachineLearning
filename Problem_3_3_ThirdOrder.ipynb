{
 "cells": [
  {
   "cell_type": "markdown",
   "metadata": {},
   "source": [
    "# Problem 3.3 Learning From Data"
   ]
  },
  {
   "cell_type": "markdown",
   "metadata": {},
   "source": [
    "# Answer d : For the 3rd order polynomial feature transform"
   ]
  },
  {
   "cell_type": "code",
   "execution_count": 1,
   "metadata": {},
   "outputs": [],
   "source": [
    "from matplotlib import pyplot as plt\n",
    "import numpy as np\n",
    "import random\n",
    "from sklearn import linear_model\n",
    "from random import seed\n",
    "np.random.seed(1)\n",
    "from sklearn.preprocessing import PolynomialFeatures"
   ]
  },
  {
   "cell_type": "markdown",
   "metadata": {},
   "source": [
    "# Visualizing the dataset"
   ]
  },
  {
   "cell_type": "code",
   "execution_count": 2,
   "metadata": {},
   "outputs": [
    {
     "data": {
      "image/png": "[encoded data removed]",
      "text/plain": [
       "<Figure size 432x288 with 1 Axes>"
      ]
     },
     "metadata": {
      "needs_background": "light"
     },
     "output_type": "display_data"
    }
   ],
   "source": [
    "thk = 5\n",
    "sep = -5\n",
    "rad = 10\n",
    "\n",
    "xs_red = []\n",
    "ys_red = []\n",
    "\n",
    "fig = plt.figure()\n",
    "ax = fig.add_subplot(111)\n",
    "ax.set_aspect('equal')\n",
    "\n",
    "step= 0.44\n",
    "for x_coord in np.arange(-(rad+thk),rad+thk,step):\n",
    "    for y_coord in np.arange(0 ,rad+thk,step):\n",
    "        if rad**2 <= (x_coord - 0)**2 + (y_coord - 0)**2 <= (rad+thk)**2:\n",
    "            xs_red.append(x_coord)\n",
    "            ys_red.append(y_coord)\n",
    "\n",
    "xs_blue = []\n",
    "ys_blue = []\n",
    "\n",
    "for x_coord in np.arange(-(thk/2),(thk/2 + (2*rad) + thk),step):\n",
    "    for y_coord in np.arange(-sep ,-(rad++sep+thk),-step):\n",
    "        if rad**2 <= (x_coord - ((thk/2) + rad))**2 + (y_coord - (-sep))**2 <= (rad+thk)**2:\n",
    "            xs_blue.append(x_coord)\n",
    "            ys_blue.append(y_coord)\n",
    "\n",
    "\n",
    "plt.scatter(xs_red, ys_red,color = 'red')\n",
    "plt.scatter(xs_blue, ys_blue,color = 'blue')\n",
    "plt.show()"
   ]
  },
  {
   "cell_type": "markdown",
   "metadata": {},
   "source": [
    "# Repeating Pocket Algorithm"
   ]
  },
  {
   "cell_type": "code",
   "execution_count": 3,
   "metadata": {},
   "outputs": [],
   "source": [
    "# dataset preparation\n",
    "x_combined = xs_red +xs_blue\n",
    "y_combined = ys_red + ys_blue\n",
    "y_train_1  = np.ones((len(xs_red), ), dtype=np.float)\n",
    "y_train_2 = -1 * np.ones((len(xs_blue), ), dtype=np.float)\n",
    "y_train = np.concatenate((y_train_1,y_train_2))\n",
    "x_train = list(zip(x_combined, y_combined))\n",
    "x_for_third_degree = x_train\n",
    "x_train = np.array(x_train)\n",
    "n_train = len(x_train)\n",
    "learningRate = 0.01\n",
    "Y = y_train\n",
    "oneVector = np.ones((x_train.shape[0], 1))\n",
    "x_train = np.concatenate((oneVector, x_train), axis=1)\n",
    "X_train = x_train"
   ]
  },
  {
   "cell_type": "code",
   "execution_count": 4,
   "metadata": {},
   "outputs": [],
   "source": [
    "def evaluate_error(w, X, y):\n",
    "    n = X.shape[0]\n",
    "    pred = np.matmul(X, w)\n",
    "    pred = np.sign(pred) - (pred == 0)\n",
    "    pred = pred.reshape(-1)\n",
    "    return np.count_nonzero(pred == y) / n"
   ]
  },
  {
   "cell_type": "markdown",
   "metadata": {},
   "source": [
    "# Setting up the third order feature transform"
   ]
  },
  {
   "cell_type": "code",
   "execution_count": 5,
   "metadata": {},
   "outputs": [],
   "source": [
    "trans = PolynomialFeatures(degree=3)\n",
    "x_for_third_degree = trans.fit_transform(x_for_third_degree)\n",
    "x_for_third_degree = np.array(x_for_third_degree)\n",
    "\n"
   ]
  },
  {
   "cell_type": "code",
   "execution_count": 6,
   "metadata": {},
   "outputs": [],
   "source": [
    "x_train = np.concatenate((oneVector, x_for_third_degree), axis=1)\n",
    "X_train = x_for_third_degree\n",
    "plotData = []\n",
    "weights = np.random.rand(10, 1)\n",
    "w_hat = weights\n",
    "misClassifications = 1\n",
    "minMisclassifications = 10000\n",
    "iteration = 0\n",
    "err_train_now = []\n",
    "err_train_hat = []\n",
    "train_err_now = 1\n",
    "train_err_min = 1"
   ]
  },
  {
   "cell_type": "code",
   "execution_count": 7,
   "metadata": {},
   "outputs": [
    {
     "name": "stdout",
     "output_type": "stream",
     "text": [
      "1000\n",
      "2000\n",
      "3000\n",
      "4000\n",
      "5000\n",
      "6000\n",
      "7000\n",
      "8000\n",
      "9000\n",
      "10000\n",
      "11000\n",
      "12000\n",
      "13000\n",
      "14000\n",
      "15000\n",
      "16000\n",
      "17000\n",
      "18000\n",
      "19000\n",
      "20000\n",
      "21000\n",
      "22000\n",
      "23000\n",
      "24000\n",
      "25000\n",
      "26000\n",
      "27000\n",
      "28000\n",
      "29000\n",
      "30000\n",
      "31000\n",
      "32000\n",
      "33000\n",
      "34000\n",
      "35000\n",
      "36000\n",
      "37000\n",
      "38000\n",
      "39000\n",
      "40000\n",
      "41000\n",
      "42000\n",
      "43000\n",
      "44000\n",
      "45000\n",
      "46000\n",
      "47000\n",
      "48000\n",
      "49000\n",
      "50000\n",
      "51000\n",
      "52000\n",
      "53000\n",
      "54000\n",
      "55000\n",
      "56000\n",
      "57000\n",
      "58000\n",
      "59000\n",
      "60000\n",
      "61000\n",
      "62000\n",
      "63000\n",
      "64000\n",
      "65000\n",
      "66000\n",
      "67000\n",
      "68000\n",
      "69000\n",
      "70000\n",
      "71000\n",
      "72000\n",
      "73000\n",
      "74000\n",
      "75000\n",
      "76000\n",
      "77000\n",
      "78000\n",
      "79000\n",
      "80000\n",
      "81000\n",
      "82000\n",
      "83000\n",
      "84000\n",
      "85000\n",
      "86000\n",
      "87000\n",
      "88000\n",
      "89000\n",
      "90000\n",
      "91000\n",
      "92000\n",
      "93000\n",
      "94000\n",
      "95000\n",
      "96000\n",
      "97000\n",
      "98000\n",
      "99000\n",
      "100000\n",
      "[[-8132.28297813 -3545.39087547 -1415.45348564  2063.92219659\n",
      "   1749.5152119  -3655.41146934  -120.39309532   -32.07075815\n",
      "    -99.72529941   722.32982602]]\n",
      "Best Case Accuracy of Pocket Learning Algorithm is:  99.90310077519379 %\n"
     ]
    }
   ],
   "source": [
    "while (misClassifications != 0 and (iteration<100000)):\n",
    "    iteration += 1\n",
    "    #for keeping track of the progress for 100000 iterations\n",
    "    if (iteration%1000) == 0:\n",
    "        print(iteration)\n",
    "    misClassifications = 0\n",
    "    for i in range(0, len(X_train)):\n",
    "        currentX = X_train[i].reshape(-1, X_train.shape[1])\n",
    "        currentY = Y[i]\n",
    "        wTx = np.dot(currentX, weights)[0][0]\n",
    "        if currentY == 1 and wTx < 0:\n",
    "            misClassifications += 1\n",
    "            weights = weights + learningRate * np.transpose(currentX)\n",
    "        elif currentY == -1 and wTx > 0:\n",
    "            misClassifications += 1\n",
    "            weights = weights - learningRate * np.transpose(currentX)\n",
    "            \n",
    "        train_err_now = evaluate_error(weights, X_train, y_train)\n",
    "        err_train_now.append(train_err_now)\n",
    "        \n",
    "        if train_err_now < train_err_min :\n",
    "            train_err_min = train_err_now\n",
    "            err_train_hat.append(train_err_min)\n",
    "            w_hat = weights\n",
    "    \n",
    "    plotData.append(misClassifications)\n",
    "    if misClassifications<minMisclassifications:\n",
    "        minMisclassifications = misClassifications\n",
    "print(weights.transpose()) \n",
    "print (\"Best Case Accuracy of Pocket Learning Algorithm is: \",(((X_train.shape[0]-minMisclassifications)/X_train.shape[0])*100),\"%\")"
   ]
  },
  {
   "cell_type": "code",
   "execution_count": 8,
   "metadata": {},
   "outputs": [
    {
     "data": {
      "image/png": "[encoded data removed]",
      "text/plain": [
       "<Figure size 432x288 with 1 Axes>"
      ]
     },
     "metadata": {
      "needs_background": "light"
     },
     "output_type": "display_data"
    }
   ],
   "source": [
    "plt.title('Number of misclassifications over the number of iterations')\n",
    "plt.plot(np.arange(0,iteration),plotData)\n",
    "plt.xlabel(\"Number of Iterations\")\n",
    "plt.ylabel(\"Number of Misclassifications\")\n",
    "plt.show()"
   ]
  },
  {
   "cell_type": "code",
   "execution_count": 9,
   "metadata": {},
   "outputs": [
    {
     "data": {
      "text/plain": [
       "(-30.0, 20.0)"
      ]
     },
     "execution_count": 9,
     "metadata": {},
     "output_type": "execute_result"
    },
    {
     "data": {
      "image/png": "[encoded data removed]",
      "text/plain": [
       "<Figure size 432x288 with 1 Axes>"
      ]
     },
     "metadata": {
      "needs_background": "light"
     },
     "output_type": "display_data"
    }
   ],
   "source": [
    "#Visualizing the linearly separable dataset\n",
    "fig = plt.figure()\n",
    "ax = fig.add_subplot(111)\n",
    "ax.set_aspect('equal')\n",
    "\n",
    "plt.scatter(xs_red, ys_red, color='red')\n",
    "plt.scatter(xs_blue,ys_blue, color='blue')\n",
    "num_points = 200\n",
    "x_poly_points = np.linspace(-20,30,num_points-1)\n",
    "y_poly_points = np.linspace(-20,30,num_points-1)\n",
    "f = []\n",
    "for i in range(num_points-1):\n",
    "    f.append((1*weights[0][0])+(weights[1][0]*x_poly_points[i]) + (weights[2][0]*y_poly_points[i]) + (weights[3][0]*(x_poly_points[i]**2)) + \n",
    "             (weights[4][0]*x_poly_points[i]*y_poly_points[i]) + (weights[5][0]*(y_poly_points[i]**2)) + (weights[6][0]*(x_poly_points[i]**3))\n",
    "             +(weights[7][0]*(x_poly_points[i]**2)*y_poly_points[i]) + (weights[8][0]*x_poly_points[i]*(y_poly_points[i]**2))\n",
    "             +(weights[9][0]*(y_poly_points[i]**3)))\n",
    "plt.plot(x_poly_points,f)\n",
    "plt.xlim([-20, 30])\n",
    "plt.ylim([-30, 20])"
   ]
  },
  {
   "cell_type": "markdown",
   "metadata": {},
   "source": [
    "# Answer (d) Linear regression"
   ]
  },
  {
   "cell_type": "code",
   "execution_count": 10,
   "metadata": {},
   "outputs": [
    {
     "name": "stdout",
     "output_type": "stream",
     "text": [
      "[ 0.00000000e+00  5.29090660e-16  2.25069728e-02  1.30121222e-01\n",
      "  8.65754742e-03  1.15922621e-02  1.39005514e-02 -3.92825494e-04\n",
      " -5.12882683e-04 -1.03413517e-03 -9.94036096e-04]\n"
     ]
    }
   ],
   "source": [
    "reg = linear_model.LinearRegression()\n",
    "reg.fit(x_train,y_train)\n",
    "weights_linear_regression = reg.coef_\n",
    "l = []\n",
    "for i in weights_linear_regression:\n",
    "    l.append(i)\n",
    "print(weights_linear_regression)"
   ]
  },
  {
   "cell_type": "code",
   "execution_count": 11,
   "metadata": {},
   "outputs": [
    {
     "data": {
      "text/plain": [
       "(-30.0, 20.0)"
      ]
     },
     "execution_count": 11,
     "metadata": {},
     "output_type": "execute_result"
    },
    {
     "data": {
      "image/png": "[encoded data removed]",
      "text/plain": [
       "<Figure size 432x288 with 1 Axes>"
      ]
     },
     "metadata": {
      "needs_background": "light"
     },
     "output_type": "display_data"
    }
   ],
   "source": [
    "#Visualizing the linearly separable dataset\n",
    "fig = plt.figure()\n",
    "ax = fig.add_subplot(111)\n",
    "ax.set_aspect('equal')\n",
    "\n",
    "plt.scatter(xs_red, ys_red, color='red')\n",
    "plt.scatter(xs_blue,ys_blue, color='blue')\n",
    "m = weights_linear_regression[1]\n",
    "c = weights_linear_regression[0]\n",
    "plt.plot( x_train, m*x_train + c ,'g--')\n",
    "plt.xlim([-20, 30])\n",
    "plt.ylim([-30, 20])"
   ]
  },
  {
   "cell_type": "code",
   "execution_count": null,
   "metadata": {},
   "outputs": [],
   "source": []
  }
 ],
 "metadata": {
  "kernelspec": {
   "display_name": "Python 3",
   "language": "python",
   "name": "python3"
  },
  "language_info": {
   "codemirror_mode": {
    "name": "ipython",
    "version": 3
   },
   "file_extension": ".py",
   "mimetype": "text/x-python",
   "name": "python",
   "nbconvert_exporter": "python",
   "pygments_lexer": "ipython3",
   "version": "3.8.3"
  }
 },
 "nbformat": 4,
 "nbformat_minor": 4
}
