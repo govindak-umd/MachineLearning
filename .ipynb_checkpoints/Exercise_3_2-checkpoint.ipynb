{
 "cells": [
  {
   "cell_type": "code",
   "execution_count": 3,
   "metadata": {
    "pycharm": {
     "is_executing": true
    }
   },
   "outputs": [],
   "source": [
    "#!/usr/bin/env python\n",
    "# coding: utf-8\n",
    "\n",
    "\n",
    "from matplotlib import pyplot as plt\n",
    "import numpy as np\n",
    "import random\n",
    "from random import seed"
   ]
  },
  {
   "cell_type": "code",
   "execution_count": 4,
   "metadata": {},
   "outputs": [],
   "source": [
    "thk = 5\n",
    "rad = 10\n",
    "s = np.linspace(0.2, 5, 25)\n",
    "misrepresented_list_count = []"
   ]
  },
  {
   "cell_type": "code",
   "execution_count": 5,
   "metadata": {},
   "outputs": [
    {
     "data": {
      "image/png": "[encoded data removed]",
      "text/plain": [
       "<Figure size 432x288 with 1 Axes>"
      ]
     },
     "metadata": {
      "needs_background": "light"
     },
     "output_type": "display_data"
    }
   ],
   "source": [
    "for sep in s:\n",
    "    xs_red = []\n",
    "    ys_red = []\n",
    "\n",
    "    for x_coord in np.arange(-(rad + thk), rad + thk, 0.6):\n",
    "        for y_coord in np.arange(0, rad + thk, 0.6):\n",
    "            if rad ** 2 <= (x_coord - 0) ** 2 + (y_coord - 0) ** 2 <= (rad + thk) ** 2:\n",
    "                xs_red.append(x_coord)\n",
    "                ys_red.append(y_coord)\n",
    "\n",
    "    xs_blue = []\n",
    "    ys_blue = []\n",
    "\n",
    "    for x_coord in np.arange(-(thk / 2), (thk / 2 + (2 * rad) + thk), 0.6):\n",
    "        for y_coord in np.arange(-sep, -(rad + +sep + thk), -0.6):\n",
    "            if rad ** 2 <= (x_coord - ((thk / 2) + rad)) ** 2 + (y_coord - (-sep)) ** 2 <= (rad + thk) ** 2:\n",
    "                xs_blue.append(x_coord)\n",
    "                ys_blue.append(y_coord)\n",
    "\n",
    "    \"\"\"\n",
    "    A function for prediction of Y\n",
    "    \"\"\"\n",
    "    def Y_predict(x_vector, w):\n",
    "        x_new = [1]\n",
    "        for i in x_vector:\n",
    "            x_new.append(i)\n",
    "        x_new = np.array((x_new))\n",
    "        res = (np.dot(x_new, w))\n",
    "        if res > 0:\n",
    "            Y = 1\n",
    "            return Y\n",
    "        elif res < 0:\n",
    "            Y = -1\n",
    "            return Y\n",
    "        elif res == 0:\n",
    "            Y = 0\n",
    "            return Y\n",
    "\n",
    "\n",
    "    count = 0\n",
    "    \"\"\"\n",
    "    The main training function for the data, with the \n",
    "    Attributes\n",
    "    ----------\n",
    "    \n",
    "    X - The data set\n",
    "    iterations - the number of times the weights are iterated\n",
    "    eta - the learning rate\n",
    "    \"\"\"\n",
    "    misrepresented_list = []\n",
    "    def train(X, iterations, eta):\n",
    "        global count\n",
    "        global w\n",
    "        global all_combined_targets\n",
    "        global misrepresented_list\n",
    "        for y_idx in range(len(X)):\n",
    "            ran_num = random.randint(0, len(X) - 1)\n",
    "            x_train = X[ran_num]\n",
    "            y_t = Y_predict(x_train, w)\n",
    "            for i, j in enumerate(all_combined_targets):\n",
    "                if j != y_t:\n",
    "                    misrepresented_list.append(i)\n",
    "            if len(misrepresented_list) == 0:\n",
    "                print('Full accuracy achieved')\n",
    "                break\n",
    "            random_selection = random.randint(0, len(misrepresented_list) - 1)\n",
    "            random_index = misrepresented_list[random_selection]\n",
    "            x_selected = X[random_index]\n",
    "            y_selected = all_combined_targets[random_index]\n",
    "            x_with1 = [1]\n",
    "            for i in x_selected:\n",
    "                x_with1.append(i)\n",
    "            x_with1 = np.array((x_with1))\n",
    "            s_t = np.matmul(w, x_with1)\n",
    "            if (y_selected * s_t) <= 1:\n",
    "                w = w + (eta * (y_selected - s_t) * x_with1)\n",
    "                count += 1\n",
    "            if (count == iterations):\n",
    "                break\n",
    "\n",
    "\n",
    "    xs_red = np.array(xs_red)\n",
    "    ys_red = np.array(ys_red)\n",
    "    xs_blue = np.array(xs_blue)\n",
    "    ys_blue = np.array(ys_blue)\n",
    "    points_1 = []\n",
    "    res1 = []\n",
    "    for i in range(len(xs_red)):\n",
    "        points_1.append([xs_red[i], ys_red[i]])\n",
    "        res1.append(-1)\n",
    "    points_1 = np.array(points_1)\n",
    "\n",
    "    points_2 = []\n",
    "    res2 = []\n",
    "    for i in range(len(xs_blue)):\n",
    "        points_2.append([xs_blue[i], ys_blue[i]])\n",
    "        res2.append(1)\n",
    "    points_2 = np.array(points_2)\n",
    "    all_input = np.concatenate((points_1, points_2))  # creating a combined dataset\n",
    "    all_d = np.concatenate((res2, res1))\n",
    "\n",
    "    # Visualizing the linearly separable dataset\n",
    "    length_dataset = len(xs_red)\n",
    "    d1 = -1 * (np.ones(int(length_dataset / 2)))\n",
    "    d2 = np.ones(int(length_dataset / 2))\n",
    "    all_combined_targets = np.concatenate((d2, d1))\n",
    "\n",
    "    # initializing all parameters\n",
    "    count = 0\n",
    "    w0, w1, w2 = 0, 0, 0\n",
    "    w = np.array((w0, w1, w2))\n",
    "    weight = 0\n",
    "    iterations = 100\n",
    "    eta = 0.01\n",
    "    # calling the function\n",
    "    train(all_input, iterations, eta)\n",
    "    misrepresented_list_count.append(len(misrepresented_list))\n",
    "    iter_list.append(count)\n",
    "\n",
    "plt.plot(misrepresented_list_count)\n",
    "plt.show()"
   ]
  },
  {
   "cell_type": "code",
   "execution_count": null,
   "metadata": {},
   "outputs": [],
   "source": []
  }
 ],
 "metadata": {
  "kernelspec": {
   "display_name": "Python 3",
   "language": "python",
   "name": "python3"
  },
  "language_info": {
   "codemirror_mode": {
    "name": "ipython",
    "version": 3
   },
   "file_extension": ".py",
   "mimetype": "text/x-python",
   "name": "python",
   "nbconvert_exporter": "python",
   "pygments_lexer": "ipython3",
   "version": "3.8.3"
  }
 },
 "nbformat": 4,
 "nbformat_minor": 4
}
