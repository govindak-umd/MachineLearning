{
 "cells": [
  {
   "cell_type": "code",
   "execution_count": 25,
   "metadata": {},
   "outputs": [],
   "source": [
    "from matplotlib import pyplot as plt\n",
    "import numpy as np\n",
    "import random\n",
    "from random import seed"
   ]
  },
  {
   "cell_type": "code",
   "execution_count": 26,
   "metadata": {},
   "outputs": [
    {
     "data": {
      "image/png": "[encoded data removed]",
      "text/plain": [
       "<Figure size 432x288 with 1 Axes>"
      ]
     },
     "metadata": {
      "needs_background": "light"
     },
     "output_type": "display_data"
    }
   ],
   "source": [
    "thk = 5\n",
    "sep = 5\n",
    "rad = 10\n",
    "\n",
    "xs_red = []\n",
    "ys_red = []\n",
    "\n",
    "fig = plt.figure()\n",
    "ax = fig.add_subplot(111)\n",
    "\n",
    "for x_coord in np.arange(-(rad+thk),rad+thk,0.6):\n",
    "    for y_coord in np.arange(0 ,rad+thk,0.6):\n",
    "        if rad**2 <= (x_coord - 0)**2 + (y_coord - 0)**2 <= (rad+thk)**2:\n",
    "            xs_red.append(x_coord)\n",
    "            ys_red.append(y_coord)\n",
    "\n",
    "\n",
    "xs_blue = []\n",
    "ys_blue = []\n",
    "\n",
    "for x_coord in np.arange(-(thk/2),(thk/2 + (2*rad) + thk),0.6):\n",
    "    for y_coord in np.arange(-sep ,-(rad++sep+thk),-0.6):\n",
    "        if rad**2 <= (x_coord - ((thk/2) + rad))**2 + (y_coord - (-sep))**2 <= (rad+thk)**2:\n",
    "            xs_blue.append(x_coord)\n",
    "            ys_blue.append(y_coord)\n",
    "\n",
    "ax.set_aspect('equal')\n",
    "plt.scatter(xs_red, ys_red,color = 'red')\n",
    "plt.scatter(xs_blue, ys_blue,color = 'blue')\n",
    "plt.show()"
   ]
  },
  {
   "cell_type": "code",
   "execution_count": 27,
   "metadata": {
    "pycharm": {
     "name": "#%%\n"
    }
   },
   "outputs": [],
   "source": [
    "def Y_predict(x_vector,w):\n",
    "    x_new = [1]\n",
    "    for i in x_vector:\n",
    "        x_new.append(i)\n",
    "    x_new = np.array((x_new))\n",
    "    res = (np.dot(x_new,w))\n",
    "    if res > 0:\n",
    "        Y = 1\n",
    "        return Y\n",
    "    elif res < 0:\n",
    "        Y = -1\n",
    "        return Y\n",
    "    elif res ==0:\n",
    "        Y = 0\n",
    "        return Y\n",
    "\n",
    "\n",
    "def train(X,iterations,eta):\n",
    "    global count\n",
    "    global w\n",
    "    global all_combined_targets\n",
    "    for y_idx in range (len(X)):\n",
    "        ran_num = random.randint(0,len(X)-1)\n",
    "        x_train = X[ran_num]\n",
    "        y_t = Y_predict(x_train,w)\n",
    "        misrepresented_list = []\n",
    "        for i,j in enumerate(all_combined_targets):\n",
    "            if j!=y_t:\n",
    "                misrepresented_list.append(i)\n",
    "        if len(misrepresented_list)==0:\n",
    "            print('Full accuracy achieved')\n",
    "            break\n",
    "        random_selection = random.randint(0,len(misrepresented_list)-1)\n",
    "        random_index = misrepresented_list[random_selection]\n",
    "        x_selected = X[random_index]\n",
    "        y_selected = all_combined_targets[random_index]\n",
    "        x_with1 = [1]\n",
    "        for i in x_selected:\n",
    "            x_with1.append(i)\n",
    "        x_with1 = np.array((x_with1))\n",
    "        s_t = np.matmul(w,x_with1)\n",
    "        if (y_selected*s_t)<=1:\n",
    "            w = w+(eta*(y_selected-s_t)*x_with1)\n",
    "        if (count==iterations):\n",
    "            print('maximum iterations reached in the training block')\n",
    "            break\n",
    "            count+=1"
   ]
  },
  {
   "cell_type": "code",
   "execution_count": 28,
   "metadata": {
    "pycharm": {
     "name": "#%%\n"
    }
   },
   "outputs": [],
   "source": [
    "xs_red = np.array(xs_red)\n",
    "ys_red = np.array(ys_red)\n",
    "xs_blue = np.array(xs_blue)\n",
    "ys_blue = np.array(ys_blue)\n",
    "points_1 = []\n",
    "for i in range(len(xs_red)):\n",
    "    points_1.append([xs_red[i],ys_red[i]])\n",
    "points_1 = np.array(points_1)\n",
    "\n",
    "points_2 = []\n",
    "for i in range(len(xs_blue)):\n",
    "    points_2.append([xs_blue[i],ys_blue[i]])\n",
    "points_2 = np.array(points_2)\n",
    "all_input = np.concatenate((points_1, points_2)) #creating a combined dataset"
   ]
  },
  {
   "cell_type": "code",
   "execution_count": 29,
   "metadata": {},
   "outputs": [
    {
     "data": {
      "image/png": "[encoded data removed]",
      "text/plain": [
       "<Figure size 432x288 with 1 Axes>"
      ]
     },
     "metadata": {
      "needs_background": "light"
     },
     "output_type": "display_data"
    }
   ],
   "source": [
    "#Visualizing the linearly separable dataset\n",
    "plt.scatter(xs_red, ys_red, color='red')\n",
    "plt.scatter(xs_blue,ys_blue, color='blue')\n",
    "length_dataset = len(xs_red)\n",
    "d1 = -1 * (np.ones(int(length_dataset/2)))\n",
    "d2 = np.ones(int(length_dataset/2))\n",
    "all_combined_targets = np.concatenate((d1,d2))"
   ]
  },
  {
   "cell_type": "code",
   "execution_count": 30,
   "metadata": {
    "pycharm": {
     "name": "#%%\n"
    }
   },
   "outputs": [
    {
     "data": {
      "text/plain": [
       "1095"
      ]
     },
     "execution_count": 30,
     "metadata": {},
     "output_type": "execute_result"
    }
   ],
   "source": [
    "len(all_input)"
   ]
  },
  {
   "cell_type": "code",
   "execution_count": 31,
   "metadata": {
    "pycharm": {
     "name": "#%%\n"
    }
   },
   "outputs": [],
   "source": [
    "#initializing all parameters\n",
    "count = 0\n",
    "w0 = random.randint(1,4)\n",
    "w1 = random.randint(1,4)\n",
    "w2 = random.randint(1,4)\n",
    "w = np.array((w0,w1,w2))\n",
    "weight= 0\n",
    "iterations = 20\n",
    "eta = 0.1\n",
    "#calling the function\n",
    "train(all_input,iterations,eta)"
   ]
  },
  {
   "cell_type": "code",
   "execution_count": 32,
   "metadata": {
    "pycharm": {
     "name": "#%%\n"
    }
   },
   "outputs": [
    {
     "data": {
      "text/plain": [
       "[<matplotlib.lines.Line2D at 0x26c6f5d75b0>,\n",
       " <matplotlib.lines.Line2D at 0x26c6f5d75e0>]"
      ]
     },
     "execution_count": 32,
     "metadata": {},
     "output_type": "execute_result"
    },
    {
     "data": {
      "image/png": "[encoded data removed]",
      "text/plain": [
       "<Figure size 432x288 with 1 Axes>"
      ]
     },
     "metadata": {
      "needs_background": "light"
     },
     "output_type": "display_data"
    }
   ],
   "source": [
    "#Visualizing the linearly separable dataset\n",
    "plt.scatter(xs_red, ys_red, color='red')\n",
    "plt.scatter(xs_blue,ys_blue, color='blue')\n",
    "m = -(w[1]/w[2])\n",
    "c = -(w[0]/w[2])\n",
    "plt.plot(all_input, m*all_input + c,'k--')\n",
    "#test plotting \n",
    "#creating the linearly separable dataset\n",
    "# xtest = np.random.normal(4, 0.2, (int(length_test_dataset/2),2))\n",
    "# x2test = np.random.normal(2, 0.2, (int(length_test_dataset/2),2))\n",
    "# all_input_test = np.concatenate((xtest, x2test)) #creating a combined dataset of\n",
    "# plt.plot(all_input_test, m*all_input_test + c,'g--')\n",
    "# print('w:',w)"
   ]
  },
  {
   "cell_type": "code",
   "execution_count": null,
   "metadata": {
    "pycharm": {
     "name": "#%%\n"
    }
   },
   "outputs": [],
   "source": []
  },
  {
   "cell_type": "code",
   "execution_count": null,
   "metadata": {},
   "outputs": [],
   "source": []
  },
  {
   "cell_type": "code",
   "execution_count": null,
   "metadata": {},
   "outputs": [],
   "source": []
  }
 ],
 "metadata": {
  "kernelspec": {
   "display_name": "Python 3",
   "language": "python",
   "name": "python3"
  },
  "language_info": {
   "codemirror_mode": {
    "name": "ipython",
    "version": 3
   },
   "file_extension": ".py",
   "mimetype": "text/x-python",
   "name": "python",
   "nbconvert_exporter": "python",
   "pygments_lexer": "ipython3",
   "version": "3.8.3"
  }
 },
 "nbformat": 4,
 "nbformat_minor": 4
}
