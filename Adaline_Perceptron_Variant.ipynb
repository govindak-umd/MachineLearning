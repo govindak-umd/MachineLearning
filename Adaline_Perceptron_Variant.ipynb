{
 "cells": [
  {
   "cell_type": "code",
   "execution_count": 1,
   "metadata": {},
   "outputs": [],
   "source": [
    "#importing necessary libraries\n",
    "import numpy as np\n",
    "from matplotlib import pyplot as plt\n",
    "import random\n",
    "random.seed(101)"
   ]
  },
  {
   "cell_type": "code",
   "execution_count": 2,
   "metadata": {},
   "outputs": [],
   "source": [
    "# user chooses the length of the data \n",
    "length_dataset = 100\n",
    "length_test_dataset = 10000"
   ]
  },
  {
   "cell_type": "code",
   "execution_count": 3,
   "metadata": {},
   "outputs": [],
   "source": [
    "#creating the linearly separable dataset\n",
    "x1 = np.random.normal(4, 0.2, (int(length_dataset/2),2))\n",
    "x2 = np.random.normal(2, 0.2, (int(length_dataset/2),2))\n",
    "all_input = np.concatenate((x1, x2)) #creating a combined dataset of"
   ]
  },
  {
   "cell_type": "code",
   "execution_count": 4,
   "metadata": {},
   "outputs": [
    {
     "data": {
      "text/plain": [
       "array([[3.96471204, 3.95766152],\n",
       "       [4.06988626, 3.95137277],\n",
       "       [4.06740501, 4.25820398],\n",
       "       [4.53247976, 3.95232605],\n",
       "       [3.76830643, 4.1731965 ],\n",
       "       [4.15955754, 4.10360388],\n",
       "       [4.00488421, 4.01670571],\n",
       "       [3.99463529, 3.91849545],\n",
       "       [4.12881049, 3.82678702],\n",
       "       [3.99805369, 3.81983082],\n",
       "       [3.73081696, 4.01578123],\n",
       "       [4.02431839, 4.04635734],\n",
       "       [3.78309245, 3.75894112],\n",
       "       [4.08788047, 3.68515743],\n",
       "       [4.15751433, 4.1424511 ],\n",
       "       [3.47527533, 3.73723622],\n",
       "       [3.72947961, 3.88867673],\n",
       "       [4.12305806, 4.31640842],\n",
       "       [4.13894653, 4.20873585],\n",
       "       [4.15336405, 4.16938911],\n",
       "       [3.8469938 , 4.10819138],\n",
       "       [3.81258369, 3.76224   ],\n",
       "       [4.2265047 , 3.80762627],\n",
       "       [3.952556  , 3.73832019],\n",
       "       [4.10312366, 3.92364026],\n",
       "       [3.98723236, 4.14695909],\n",
       "       [4.31716703, 4.12092245],\n",
       "       [3.90762382, 4.01196373],\n",
       "       [3.88869563, 3.84369922],\n",
       "       [3.81380989, 4.18853052],\n",
       "       [4.14438284, 4.1511872 ],\n",
       "       [4.30120701, 3.80580211],\n",
       "       [4.06022154, 4.0071845 ],\n",
       "       [3.90497222, 4.09567135],\n",
       "       [3.90257952, 3.8599421 ],\n",
       "       [4.17296511, 3.77991301],\n",
       "       [3.7135156 , 4.03792771],\n",
       "       [4.34555338, 3.79445694],\n",
       "       [3.90901702, 4.32677299],\n",
       "       [4.2033464 , 3.76555556],\n",
       "       [4.47275975, 3.85978899],\n",
       "       [3.70316081, 3.91728631],\n",
       "       [4.09555952, 3.97608976],\n",
       "       [3.9458132 , 3.92458766],\n",
       "       [3.87413803, 3.96722243],\n",
       "       [4.02308597, 3.87184165],\n",
       "       [4.32658115, 4.43863582],\n",
       "       [4.1585418 , 3.91118834],\n",
       "       [4.13048278, 3.99513339],\n",
       "       [4.19887745, 3.98875115]])"
      ]
     },
     "execution_count": 4,
     "metadata": {},
     "output_type": "execute_result"
    }
   ],
   "source": [
    "x1"
   ]
  },
  {
   "cell_type": "code",
   "execution_count": 4,
   "metadata": {},
   "outputs": [
    {
     "data": {
      "image/png": "[encoded data removed]",
      "text/plain": [
       "<Figure size 432x288 with 1 Axes>"
      ]
     },
     "metadata": {
      "needs_background": "light"
     },
     "output_type": "display_data"
    }
   ],
   "source": [
    "#Visualizing the linearly separable dataset\n",
    "plt.scatter(x1[:,0], x1[:,1], color='blue')\n",
    "plt.scatter(x2[:,0], x2[:,1], color='red')\n",
    "#separating the blue and the red points and categorizing the same\n",
    "d1 = -1 * (np.ones(int(length_dataset/2)))\n",
    "d2 = np.ones(int(length_dataset/2))\n",
    "all_combined_targets = np.concatenate((d1,d2))\n",
    "plt.show()"
   ]
  },
  {
   "cell_type": "code",
   "execution_count": 5,
   "metadata": {},
   "outputs": [],
   "source": [
    "def Y_predict(x_vector,w):\n",
    "    x_new = [1]\n",
    "    for i in x_vector:\n",
    "        x_new.append(i)\n",
    "    x_new = np.array((x_new))\n",
    "    res = (np.dot(x_new,w))\n",
    "    if res > 0:\n",
    "        Y = 1\n",
    "        return Y\n",
    "    elif res < 0:\n",
    "        Y = -1\n",
    "        return Y\n",
    "    elif res ==0:\n",
    "        Y = 0\n",
    "        return Y\n",
    "    \n",
    "\n",
    "def train(X,iterations,eta):\n",
    "    global count\n",
    "    global w\n",
    "    global all_combined_targets\n",
    "    for y_idx in range (len(X)):\n",
    "        ran_num = random.randint(0,len(X)-1)\n",
    "        x_train = X[ran_num]\n",
    "        y_t = Y_predict(x_train,w)\n",
    "        misrepresented_list = []\n",
    "        for i,j in enumerate(all_combined_targets):\n",
    "            if j!=y_t:\n",
    "                misrepresented_list.append(i)\n",
    "        if len(misrepresented_list)==0:\n",
    "            print('Full accuracy achieved')\n",
    "            break\n",
    "        random_selection = random.randint(0,len(misrepresented_list)-1)\n",
    "        random_index = misrepresented_list[random_selection]\n",
    "        x_selected = X[random_index]\n",
    "        y_selected = all_combined_targets[random_index]\n",
    "        x_with1 = [1]\n",
    "        for i in x_selected:\n",
    "            x_with1.append(i)\n",
    "        x_with1 = np.array((x_with1))\n",
    "        s_t = np.matmul(w,x_with1)\n",
    "        if (y_selected*s_t)<=1:\n",
    "            w = w+(eta*(y_selected-s_t)*x_with1)\n",
    "        if (count==iterations):\n",
    "            print('maximum iterations reached in the training block')\n",
    "            break\n",
    "            count+=1"
   ]
  },
  {
   "cell_type": "markdown",
   "metadata": {},
   "source": [
    "## eta = 100"
   ]
  },
  {
   "cell_type": "code",
   "execution_count": 6,
   "metadata": {},
   "outputs": [],
   "source": [
    "#initializing all parameters\n",
    "count = 0\n",
    "w0 = random.randint(1,4)\n",
    "w1 = random.randint(1,4)\n",
    "w2 = random.randint(1,4)\n",
    "w = np.array((w0,w1,w2))\n",
    "weight= 0\n",
    "iterations = 20\n",
    "eta = 0.001\n",
    "#calling the function\n",
    "train(all_input,iterations,eta)"
   ]
  },
  {
   "cell_type": "code",
   "execution_count": 7,
   "metadata": {},
   "outputs": [
    {
     "name": "stdout",
     "output_type": "stream",
     "text": [
      "w: [ 1.08709874 -0.60569865  0.36709108]\n"
     ]
    },
    {
     "data": {
      "image/png": "[encoded data removed]",
      "text/plain": [
       "<Figure size 432x288 with 1 Axes>"
      ]
     },
     "metadata": {
      "needs_background": "light"
     },
     "output_type": "display_data"
    }
   ],
   "source": [
    "#Visualizing the linearly separable dataset\n",
    "plt.scatter(x1[:,0], x1[:,1], color='blue')\n",
    "plt.scatter(x2[:,0], x2[:,1], color='red')\n",
    "m = -(w[1]/w[2])\n",
    "c = -(w[0]/w[2])\n",
    "plt.plot(all_input, m*all_input + c,'k--')\n",
    "#test plotting \n",
    "#creating the linearly separable dataset\n",
    "xtest = np.random.normal(4, 0.2, (int(length_test_dataset/2),2))\n",
    "x2test = np.random.normal(2, 0.2, (int(length_test_dataset/2),2))\n",
    "all_input_test = np.concatenate((xtest, x2test)) #creating a combined dataset of\n",
    "plt.plot(all_input_test, m*all_input_test + c,'g--')\n",
    "print('w:',w)"
   ]
  },
  {
   "cell_type": "markdown",
   "metadata": {},
   "source": [
    "## eta = 1"
   ]
  },
  {
   "cell_type": "code",
   "execution_count": 8,
   "metadata": {},
   "outputs": [],
   "source": [
    "#initializing all parameters\n",
    "count = 0\n",
    "w0 = random.randint(1,4)\n",
    "w1 = random.randint(1,4)\n",
    "w2 = random.randint(1,4)\n",
    "w = np.array((w0,w1,w2))\n",
    "weight= 0\n",
    "iterations = 20\n",
    "eta = 1\n",
    "#calling the function\n",
    "train(all_input,iterations,eta)"
   ]
  },
  {
   "cell_type": "code",
   "execution_count": 9,
   "metadata": {},
   "outputs": [
    {
     "name": "stdout",
     "output_type": "stream",
     "text": [
      "w: [3.92614577e+118 6.48064357e+118 7.60059729e+118]\n"
     ]
    },
    {
     "data": {
      "image/png": "[encoded data removed]",
      "text/plain": [
       "<Figure size 432x288 with 1 Axes>"
      ]
     },
     "metadata": {
      "needs_background": "light"
     },
     "output_type": "display_data"
    }
   ],
   "source": [
    "#Visualizing the linearly separable dataset\n",
    "plt.scatter(x1[:,0], x1[:,1], color='blue')\n",
    "plt.scatter(x2[:,0], x2[:,1], color='red')\n",
    "m = -(w[1]/w[2])\n",
    "c = -(w[0]/w[2])\n",
    "plt.plot(all_input, m*all_input + c,'k--')\n",
    "#test plotting \n",
    "#creating the linearly separable dataset\n",
    "xtest = np.random.normal(4, 0.2, (int(length_test_dataset/2),2))\n",
    "x2test = np.random.normal(2, 0.2, (int(length_test_dataset/2),2))\n",
    "all_input_test = np.concatenate((xtest, x2test)) #creating a combined dataset of\n",
    "plt.plot(all_input_test, m*all_input_test + c,'g--')\n",
    "print('w:',w)"
   ]
  },
  {
   "cell_type": "markdown",
   "metadata": {},
   "source": [
    "## eta = 0.01"
   ]
  },
  {
   "cell_type": "code",
   "execution_count": 10,
   "metadata": {},
   "outputs": [],
   "source": [
    "#initializing all parameters\n",
    "count = 0\n",
    "w0 = random.randint(1,4)\n",
    "w1 = random.randint(1,4)\n",
    "w2 = random.randint(1,4)\n",
    "w = np.array((w0,w1,w2))\n",
    "weight= 0\n",
    "iterations = 20\n",
    "eta = 0.01\n",
    "#calling the function\n",
    "train(all_input,iterations,eta)"
   ]
  },
  {
   "cell_type": "code",
   "execution_count": 11,
   "metadata": {},
   "outputs": [
    {
     "name": "stdout",
     "output_type": "stream",
     "text": [
      "w: [ 0.51616892 -1.01058716  0.81523726]\n"
     ]
    },
    {
     "data": {
      "image/png": "[encoded data removed]",
      "text/plain": [
       "<Figure size 432x288 with 1 Axes>"
      ]
     },
     "metadata": {
      "needs_background": "light"
     },
     "output_type": "display_data"
    }
   ],
   "source": [
    "#Visualizing the linearly separable dataset\n",
    "plt.scatter(x1[:,0], x1[:,1], color='blue')\n",
    "plt.scatter(x2[:,0], x2[:,1], color='red')\n",
    "m = -(w[1]/w[2])\n",
    "c = -(w[0]/w[2])\n",
    "plt.plot(all_input, m*all_input + c,'k--')\n",
    "#test plotting \n",
    "#creating the linearly separable dataset\n",
    "xtest = np.random.normal(4, 0.2, (int(length_test_dataset/2),2))\n",
    "x2test = np.random.normal(2, 0.2, (int(length_test_dataset/2),2))\n",
    "all_input_test = np.concatenate((xtest, x2test)) #creating a combined dataset of\n",
    "plt.plot(all_input_test, m*all_input_test + c,'g--')\n",
    "print('w:',w)"
   ]
  },
  {
   "cell_type": "markdown",
   "metadata": {},
   "source": [
    "## eta = 0.0001"
   ]
  },
  {
   "cell_type": "code",
   "execution_count": 12,
   "metadata": {},
   "outputs": [],
   "source": [
    "#initializing all parameters\n",
    "count = 0\n",
    "w0 = random.randint(1,4)\n",
    "w1 = random.randint(1,4)\n",
    "w2 = random.randint(1,4)\n",
    "w = np.array((w0,w1,w2))\n",
    "weight= 0\n",
    "iterations = 20\n",
    "eta = 0.0001\n",
    "#calling the function\n",
    "train(all_input,iterations,eta)"
   ]
  },
  {
   "cell_type": "code",
   "execution_count": 13,
   "metadata": {},
   "outputs": [
    {
     "name": "stdout",
     "output_type": "stream",
     "text": [
      "w: [1.80332769 1.20856561 2.21148356]\n"
     ]
    },
    {
     "data": {
      "image/png": "[encoded data removed]",
      "text/plain": [
       "<Figure size 432x288 with 1 Axes>"
      ]
     },
     "metadata": {
      "needs_background": "light"
     },
     "output_type": "display_data"
    }
   ],
   "source": [
    "#Visualizing the linearly separable dataset\n",
    "plt.scatter(x1[:,0], x1[:,1], color='blue')\n",
    "plt.scatter(x2[:,0], x2[:,1], color='red')\n",
    "m = -(w[1]/w[2])\n",
    "c = -(w[0]/w[2])\n",
    "plt.plot(all_input, m*all_input + c,'k--')\n",
    "#test plotting \n",
    "#creating the linearly separable dataset\n",
    "xtest = np.random.normal(4, 0.2, (int(length_test_dataset/2),2))\n",
    "x2test = np.random.normal(2, 0.2, (int(length_test_dataset/2),2))\n",
    "all_input_test = np.concatenate((xtest, x2test)) #creating a combined dataset of\n",
    "plt.plot(all_input_test, m*all_input_test + c,'g--')\n",
    "print('w:',w)"
   ]
  },
  {
   "cell_type": "markdown",
   "metadata": {},
   "source": [
    "# Comparison of Results"
   ]
  },
  {
   "cell_type": "code",
   "execution_count": 15,
   "metadata": {},
   "outputs": [],
   "source": [
    "# We can see that in case a) the results are not too bad but the line cuts \n",
    "# through the linearly separable points"
   ]
  },
  {
   "cell_type": "code",
   "execution_count": 16,
   "metadata": {},
   "outputs": [],
   "source": [
    "# In case b) The line is very off"
   ]
  },
  {
   "cell_type": "code",
   "execution_count": 17,
   "metadata": {},
   "outputs": [],
   "source": [
    "# In case c) It almost verifies the linear separability"
   ]
  },
  {
   "cell_type": "code",
   "execution_count": 18,
   "metadata": {},
   "outputs": [],
   "source": [
    "# In case d) The line goes off the path again"
   ]
  },
  {
   "cell_type": "code",
   "execution_count": 19,
   "metadata": {},
   "outputs": [],
   "source": [
    "# Conclusion the eta value that resulted in the minimu classification error wass when eta = 0.01"
   ]
  },
  {
   "cell_type": "code",
   "execution_count": null,
   "metadata": {},
   "outputs": [],
   "source": []
  }
 ],
 "metadata": {
  "kernelspec": {
   "display_name": "Python 3",
   "language": "python",
   "name": "python3"
  },
  "language_info": {
   "codemirror_mode": {
    "name": "ipython",
    "version": 3
   },
   "file_extension": ".py",
   "mimetype": "text/x-python",
   "name": "python",
   "nbconvert_exporter": "python",
   "pygments_lexer": "ipython3",
   "version": "3.8.3"
  }
 },
 "nbformat": 4,
 "nbformat_minor": 4
}
